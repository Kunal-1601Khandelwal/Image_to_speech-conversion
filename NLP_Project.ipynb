{
 "cells": [
  {
   "cell_type": "code",
   "execution_count": 1,
   "id": "419bf6ea",
   "metadata": {},
   "outputs": [
    {
     "name": "stdout",
     "output_type": "stream",
     "text": [
      "Requirement already satisfied: pytesseract in c:\\users\\lenovo\\anaconda3\\lib\\site-packages (0.3.10)\n",
      "Requirement already satisfied: packaging>=21.3 in c:\\users\\lenovo\\anaconda3\\lib\\site-packages (from pytesseract) (23.1)\n",
      "Requirement already satisfied: Pillow>=8.0.0 in c:\\users\\lenovo\\anaconda3\\lib\\site-packages (from pytesseract) (8.4.0)\n"
     ]
    }
   ],
   "source": [
    "!pip install pytesseract"
   ]
  },
  {
   "cell_type": "code",
   "execution_count": 2,
   "id": "307c3713",
   "metadata": {},
   "outputs": [
    {
     "name": "stdout",
     "output_type": "stream",
     "text": [
      "Requirement already satisfied: pyttsx3 in c:\\users\\lenovo\\anaconda3\\lib\\site-packages (2.90)\n",
      "Requirement already satisfied: comtypes in c:\\users\\lenovo\\anaconda3\\lib\\site-packages (from pyttsx3) (1.1.10)\n",
      "Requirement already satisfied: pywin32 in c:\\users\\lenovo\\anaconda3\\lib\\site-packages (from pyttsx3) (228)\n",
      "Requirement already satisfied: pypiwin32 in c:\\users\\lenovo\\anaconda3\\lib\\site-packages (from pyttsx3) (223)\n"
     ]
    }
   ],
   "source": [
    "!pip install pyttsx3"
   ]
  },
  {
   "cell_type": "code",
   "execution_count": 3,
   "id": "139d4575",
   "metadata": {},
   "outputs": [
    {
     "name": "stdout",
     "output_type": "stream",
     "text": [
      "Collecting Translator\n",
      "  Downloading translator-0.0.9-py3-none-any.whl (5.3 kB)\n",
      "Requirement already satisfied: beautifulsoup4>=4.0 in c:\\users\\lenovo\\anaconda3\\lib\\site-packages (from Translator) (4.10.0)\n",
      "Requirement already satisfied: soupsieve>1.2 in c:\\users\\lenovo\\anaconda3\\lib\\site-packages (from beautifulsoup4>=4.0->Translator) (2.2.1)\n",
      "Installing collected packages: Translator\n",
      "Successfully installed Translator-0.0.9\n"
     ]
    }
   ],
   "source": [
    "!pip install Translator"
   ]
  },
  {
   "cell_type": "code",
   "execution_count": 26,
   "id": "b3d6cd6f",
   "metadata": {},
   "outputs": [
    {
     "name": "stdout",
     "output_type": "stream",
     "text": [
      "Requirement already satisfied: googletrans in c:\\users\\lenovo\\anaconda3\\lib\\site-packages (3.0.0)\n",
      "Requirement already satisfied: httpx==0.13.3 in c:\\users\\lenovo\\anaconda3\\lib\\site-packages (from googletrans) (0.13.3)\n",
      "Requirement already satisfied: sniffio in c:\\users\\lenovo\\anaconda3\\lib\\site-packages (from httpx==0.13.3->googletrans) (1.2.0)\n",
      "Requirement already satisfied: chardet==3.* in c:\\users\\lenovo\\anaconda3\\lib\\site-packages (from httpx==0.13.3->googletrans) (3.0.4)\n",
      "Requirement already satisfied: certifi in c:\\users\\lenovo\\anaconda3\\lib\\site-packages (from httpx==0.13.3->googletrans) (2021.10.8)\n",
      "Requirement already satisfied: httpcore==0.9.* in c:\\users\\lenovo\\anaconda3\\lib\\site-packages (from httpx==0.13.3->googletrans) (0.9.1)\n",
      "Requirement already satisfied: rfc3986<2,>=1.3 in c:\\users\\lenovo\\anaconda3\\lib\\site-packages (from httpx==0.13.3->googletrans) (1.5.0)\n",
      "Requirement already satisfied: hstspreload in c:\\users\\lenovo\\anaconda3\\lib\\site-packages (from httpx==0.13.3->googletrans) (2023.1.1)\n",
      "Requirement already satisfied: idna==2.* in c:\\users\\lenovo\\anaconda3\\lib\\site-packages (from httpx==0.13.3->googletrans) (2.10)\n",
      "Requirement already satisfied: h2==3.* in c:\\users\\lenovo\\anaconda3\\lib\\site-packages (from httpcore==0.9.*->httpx==0.13.3->googletrans) (3.2.0)\n",
      "Requirement already satisfied: h11<0.10,>=0.8 in c:\\users\\lenovo\\anaconda3\\lib\\site-packages (from httpcore==0.9.*->httpx==0.13.3->googletrans) (0.9.0)\n",
      "Requirement already satisfied: hpack<4,>=3.0 in c:\\users\\lenovo\\anaconda3\\lib\\site-packages (from h2==3.*->httpcore==0.9.*->httpx==0.13.3->googletrans) (3.0.0)\n",
      "Requirement already satisfied: hyperframe<6,>=5.2.0 in c:\\users\\lenovo\\anaconda3\\lib\\site-packages (from h2==3.*->httpcore==0.9.*->httpx==0.13.3->googletrans) (5.2.0)\n"
     ]
    }
   ],
   "source": [
    "!pip install googletrans"
   ]
  },
  {
   "cell_type": "code",
   "execution_count": 4,
   "id": "38cacbaf",
   "metadata": {},
   "outputs": [],
   "source": [
    "import pytesseract\n",
    "from PIL import Image\n",
    "import pyttsx3\n",
    "from googletrans import Translator"
   ]
  },
  {
   "cell_type": "code",
   "execution_count": 5,
   "id": "cc701062",
   "metadata": {},
   "outputs": [],
   "source": [
    "img=Image.open('demo.png')"
   ]
  },
  {
   "cell_type": "code",
   "execution_count": 6,
   "id": "1703b9b8",
   "metadata": {},
   "outputs": [
    {
     "name": "stdout",
     "output_type": "stream",
     "text": [
      "<PIL.PngImagePlugin.PngImageFile image mode=RGB size=700x440 at 0x277B6FA3D60>\n"
     ]
    }
   ],
   "source": [
    "print(img)"
   ]
  },
  {
   "cell_type": "code",
   "execution_count": 7,
   "id": "4dbfb2b2",
   "metadata": {},
   "outputs": [],
   "source": [
    "pytesseract.pytesseract.tesseract_cmd= 'C:\\\\Program Files\\\\Tesseract-OCR\\\\tesseract.exe'"
   ]
  },
  {
   "cell_type": "code",
   "execution_count": 8,
   "id": "6474f47c",
   "metadata": {},
   "outputs": [],
   "source": [
    "box1=pytesseract.image_to_boxes(img)"
   ]
  },
  {
   "cell_type": "code",
   "execution_count": 10,
   "id": "475f3d46",
   "metadata": {},
   "outputs": [
    {
     "name": "stdout",
     "output_type": "stream",
     "text": [
      "I 21 367 43 415 0\n",
      "t 46 366 67 403 0\n",
      "w 85 366 137 397 0\n",
      "a 138 366 166 398 0\n",
      "s 170 366 191 398 0\n",
      "t 213 366 234 403 0\n",
      "h 237 367 274 417 0\n",
      "e 277 366 304 398 0\n",
      "b 325 365 359 418 0\n",
      "e 365 366 392 398 0\n",
      "s 382 365 407 418 0\n",
      "t 398 366 445 403 0\n",
      "o 467 366 499 398 0\n",
      "f 504 367 531 417 0\n",
      "t 19 283 40 320 0\n",
      "i 44 284 61 331 0\n",
      "m 64 284 118 315 0\n",
      "e 103 272 134 331 0\n",
      "s 121 283 149 315 0\n",
      ", 155 272 192 315 0\n",
      "i 215 284 231 331 0\n",
      "t 234 283 256 320 0\n",
      "w 273 283 325 314 0\n",
      "a 326 283 355 315 0\n",
      "s 358 283 379 315 0\n",
      "t 401 283 423 320 0\n",
      "h 426 284 462 334 0\n",
      "e 465 283 493 315 0\n",
      "w 511 283 563 314 0\n",
      "o 563 283 595 315 0\n",
      "r 599 284 623 315 0\n",
      "s 626 283 648 315 0\n",
      "t 652 283 674 320 0\n",
      "o 19 200 51 232 0\n",
      "f 57 201 84 251 0\n",
      "t 97 200 118 237 0\n",
      "i 122 201 138 248 0\n",
      "m 142 201 196 233 0\n",
      "e 181 189 208 248 0\n",
      "s 199 200 227 232 0\n",
      ", 232 189 270 232 0\n",
      "i 292 201 308 248 0\n",
      "t 312 200 333 237 0\n",
      "w 351 200 402 231 0\n",
      "a 404 200 432 232 0\n",
      "s 436 200 457 232 0\n",
      "t 479 200 500 237 0\n",
      "h 504 201 540 251 0\n",
      "e 543 200 570 232 0\n",
      "a 593 200 622 232 0\n",
      "g 622 182 656 232 0\n",
      "e 658 200 685 232 0\n",
      "o 19 117 51 149 0\n",
      "f 57 118 84 168 0\n",
      "w 93 117 144 148 0\n",
      "i 145 118 161 164 0\n",
      "s 165 117 187 149 0\n",
      "d 192 117 226 169 0\n",
      "o 229 117 261 149 0\n",
      "m 261 106 291 169 0\n",
      ", 266 106 335 149 0\n",
      "i 358 118 373 164 0\n",
      "t 377 118 399 154 0\n",
      "w 416 117 467 148 0\n",
      "a 469 117 497 149 0\n",
      "s 501 117 522 149 0\n",
      "t 544 118 565 154 0\n",
      "h 569 118 605 168 0\n",
      "e 608 117 636 149 0\n",
      "a 20 34 48 66 0\n",
      "g 49 16 82 66 0\n",
      "e 84 34 112 66 0\n",
      "o 134 34 166 66 0\n",
      "f 172 35 199 86 0\n",
      "f 213 35 240 86 0\n",
      "o 235 34 268 66 0\n",
      "o 273 34 304 66 0\n",
      "l 289 34 315 86 0\n",
      "i 308 35 343 86 0\n",
      "s 347 34 369 66 0\n",
      "h 373 35 409 86 0\n",
      "n 399 34 426 86 0\n",
      "e 411 35 447 66 0\n",
      "s 450 34 477 66 0\n",
      "s 483 34 504 66 0\n",
      ". 510 34 531 66 0\n",
      ". 538 35 545 42 0\n",
      ". 554 35 580 42 0\n",
      "\n"
     ]
    }
   ],
   "source": [
    "print(box1)"
   ]
  },
  {
   "cell_type": "code",
   "execution_count": 11,
   "id": "7328d445",
   "metadata": {},
   "outputs": [],
   "source": [
    "data1=pytesseract.image_to_data(img)"
   ]
  },
  {
   "cell_type": "code",
   "execution_count": 13,
   "id": "21159bf0",
   "metadata": {},
   "outputs": [
    {
     "name": "stdout",
     "output_type": "stream",
     "text": [
      "level\tpage_num\tblock_num\tpar_num\tline_num\tword_num\tleft\ttop\twidth\theight\tconf\ttext\n",
      "1\t1\t0\t0\t0\t0\t0\t0\t700\t440\t-1\t\n",
      "2\t1\t1\t0\t0\t0\t19\t22\t666\t402\t-1\t\n",
      "3\t1\t1\t1\t0\t0\t19\t22\t666\t402\t-1\t\n",
      "4\t1\t1\t1\t1\t0\t21\t22\t510\t53\t-1\t\n",
      "5\t1\t1\t1\t1\t1\t21\t25\t46\t49\t96.394508\tIt\n",
      "5\t1\t1\t1\t1\t2\t85\t42\t106\t32\t96.394508\twas\n",
      "5\t1\t1\t1\t1\t3\t213\t23\t91\t51\t95.354317\tthe\n",
      "5\t1\t1\t1\t1\t4\t325\t22\t120\t53\t96.558151\tbest\n",
      "5\t1\t1\t1\t1\t5\t467\t23\t64\t51\t96.938232\tof\n",
      "4\t1\t1\t1\t2\t0\t19\t106\t655\t62\t-1\t\n",
      "5\t1\t1\t1\t2\t1\t19\t109\t173\t59\t96.297287\ttimes,\n",
      "5\t1\t1\t1\t2\t2\t215\t109\t41\t48\t96.692001\tit\n",
      "5\t1\t1\t1\t2\t3\t273\t125\t106\t32\t96.661537\twas\n",
      "5\t1\t1\t1\t2\t4\t401\t106\t92\t51\t96.580582\tthe\n",
      "5\t1\t1\t1\t2\t5\t511\t120\t163\t37\t96.880806\tworst\n",
      "4\t1\t1\t1\t3\t0\t19\t189\t666\t69\t-1\t\n",
      "5\t1\t1\t1\t3\t1\t19\t189\t65\t51\t96.749313\tof\n",
      "5\t1\t1\t1\t3\t2\t97\t192\t173\t59\t96.812141\ttimes,\n",
      "5\t1\t1\t1\t3\t3\t292\t192\t41\t48\t97.002319\tit\n",
      "5\t1\t1\t1\t3\t4\t351\t208\t106\t32\t95.951591\twas\n",
      "5\t1\t1\t1\t3\t5\t479\t189\t91\t51\t96.923134\tthe\n",
      "5\t1\t1\t1\t3\t6\t593\t208\t92\t50\t96.789124\tage\n",
      "4\t1\t1\t1\t4\t0\t19\t271\t617\t63\t-1\t\n",
      "5\t1\t1\t1\t4\t1\t19\t272\t65\t51\t96.914337\tof\n",
      "5\t1\t1\t1\t4\t2\t93\t271\t242\t63\t96.577286\twisdom,\n",
      "5\t1\t1\t1\t4\t3\t358\t276\t41\t46\t96.475685\tit\n",
      "5\t1\t1\t1\t4\t4\t416\t291\t106\t32\t96.082085\twas\n",
      "5\t1\t1\t1\t4\t5\t544\t272\t92\t51\t96.771637\tthe\n",
      "4\t1\t1\t1\t5\t0\t20\t354\t560\t70\t-1\t\n",
      "5\t1\t1\t1\t5\t1\t20\t374\t92\t50\t96.732079\tage\n",
      "5\t1\t1\t1\t5\t2\t134\t354\t65\t52\t96.715485\tof\n",
      "5\t1\t1\t1\t5\t3\t213\t354\t367\t52\t96.137169\tfoolishness...\n",
      "\n"
     ]
    }
   ],
   "source": [
    "print(data1)"
   ]
  },
  {
   "cell_type": "code",
   "execution_count": 14,
   "id": "686bc118",
   "metadata": {},
   "outputs": [],
   "source": [
    "result = pytesseract.image_to_string(img)  "
   ]
  },
  {
   "cell_type": "code",
   "execution_count": 15,
   "id": "8f18dc0a",
   "metadata": {},
   "outputs": [
    {
     "name": "stdout",
     "output_type": "stream",
     "text": [
      "It was the best of\n",
      "times, it was the worst\n",
      "of times, it was the age\n",
      "of wisdom, it was the\n",
      "age of foolishness...\n",
      "\n"
     ]
    }
   ],
   "source": [
    "with open('abc.txt',mode ='w') as file:     \n",
    "      \n",
    "                 file.write(result)\n",
    "                 print(result)"
   ]
  },
  {
   "cell_type": "code",
   "execution_count": 19,
   "id": "fd52e618",
   "metadata": {},
   "outputs": [],
   "source": [
    "from translate import Translator"
   ]
  },
  {
   "cell_type": "code",
   "execution_count": 20,
   "id": "cab049a7",
   "metadata": {},
   "outputs": [],
   "source": [
    "p=Translator(to_lang=\"en\")"
   ]
  },
  {
   "cell_type": "code",
   "execution_count": 22,
   "id": "2bf6c3a2",
   "metadata": {},
   "outputs": [
    {
     "name": "stdout",
     "output_type": "stream",
     "text": [
      "It was the best of\n",
      "times, it was the worst\n",
      "of times, it was the age\n",
      "of wisdom, it was the\n",
      "age of foolishness...\n",
      "\n"
     ]
    }
   ],
   "source": [
    "k=p.translate(result)\n",
    "print(k)"
   ]
  },
  {
   "cell_type": "code",
   "execution_count": 24,
   "id": "7db9d1ea",
   "metadata": {},
   "outputs": [],
   "source": [
    "engine = pyttsx3.init()"
   ]
  },
  {
   "cell_type": "code",
   "execution_count": 25,
   "id": "92c3a01f",
   "metadata": {},
   "outputs": [],
   "source": [
    "engine.say(k)\n",
    "engine.runAndWait()"
   ]
  },
  {
   "cell_type": "code",
   "execution_count": null,
   "id": "ee3a07f8",
   "metadata": {},
   "outputs": [],
   "source": []
  }
 ],
 "metadata": {
  "kernelspec": {
   "display_name": "Python 3 (ipykernel)",
   "language": "python",
   "name": "python3"
  },
  "language_info": {
   "codemirror_mode": {
    "name": "ipython",
    "version": 3
   },
   "file_extension": ".py",
   "mimetype": "text/x-python",
   "name": "python",
   "nbconvert_exporter": "python",
   "pygments_lexer": "ipython3",
   "version": "3.9.7"
  }
 },
 "nbformat": 4,
 "nbformat_minor": 5
}
